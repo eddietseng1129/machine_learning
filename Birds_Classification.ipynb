{
  "nbformat": 4,
  "nbformat_minor": 0,
  "metadata": {
    "colab": {
      "name": "Birds_Classification.ipynb",
      "provenance": [],
      "authorship_tag": "ABX9TyPHCsD75OysVb5hQMfOFI9C",
      "include_colab_link": true
    },
    "kernelspec": {
      "name": "python3",
      "display_name": "Python 3"
    },
    "accelerator": "GPU"
  },
  "cells": [
    {
      "cell_type": "markdown",
      "metadata": {
        "id": "view-in-github",
        "colab_type": "text"
      },
      "source": [
        "<a href=\"https://colab.research.google.com/github/eddietseng1129/machine_learning/blob/master/Birds_Classification.ipynb\" target=\"_parent\"><img src=\"https://colab.research.google.com/assets/colab-badge.svg\" alt=\"Open In Colab\"/></a>"
      ]
    },
    {
      "cell_type": "code",
      "metadata": {
        "id": "F38_A912LM2T",
        "colab_type": "code",
        "colab": {}
      },
      "source": [
        "# # Download data\n",
        "# !wget http://www.vision.caltech.edu/visipedia-data/CUB-200-2011/CUB_200_2011.tgz\n",
        "# # Uncompress files\n",
        "# !tar xvzf CUB_200_2011.tgz\n"
      ],
      "execution_count": 0,
      "outputs": []
    },
    {
      "cell_type": "code",
      "metadata": {
        "id": "WhWcur6hNnZX",
        "colab_type": "code",
        "colab": {}
      },
      "source": [
        "import cv2\n",
        "import numpy as np\n",
        "import pandas as pd\n",
        "import matplotlib.pyplot as plt\n",
        "\n",
        "import os\n",
        "import random\n",
        "import gc\n",
        "\n",
        "from pathlib import Path"
      ],
      "execution_count": 0,
      "outputs": []
    },
    {
      "cell_type": "code",
      "metadata": {
        "id": "NGbHoMtfR5cC",
        "colab_type": "code",
        "colab": {}
      },
      "source": [
        "# BGR -> RGB\n",
        "def read_image(path):\n",
        "    im = cv2.imread(str(path))\n",
        "    return cv2.cvtColor(im, cv2.COLOR_BGR2RGB)"
      ],
      "execution_count": 0,
      "outputs": []
    },
    {
      "cell_type": "code",
      "metadata": {
        "id": "DrG-3ZPkSKga",
        "colab_type": "code",
        "outputId": "d7d9e1f0-3c7b-4571-dd9e-f69be2f03448",
        "colab": {
          "base_uri": "https://localhost:8080/",
          "height": 111
        }
      },
      "source": [
        "PATH = Path('./CUB_200_2011')\n",
        "labels = pd.read_csv(PATH/\"image_class_labels.txt\", header=None, sep=\" \")\n",
        "labels.columns = [\"id\", \"label\"]\n",
        "labels.head(2)"
      ],
      "execution_count": 0,
      "outputs": [
        {
          "output_type": "execute_result",
          "data": {
            "text/html": [
              "<div>\n",
              "<style scoped>\n",
              "    .dataframe tbody tr th:only-of-type {\n",
              "        vertical-align: middle;\n",
              "    }\n",
              "\n",
              "    .dataframe tbody tr th {\n",
              "        vertical-align: top;\n",
              "    }\n",
              "\n",
              "    .dataframe thead th {\n",
              "        text-align: right;\n",
              "    }\n",
              "</style>\n",
              "<table border=\"1\" class=\"dataframe\">\n",
              "  <thead>\n",
              "    <tr style=\"text-align: right;\">\n",
              "      <th></th>\n",
              "      <th>id</th>\n",
              "      <th>label</th>\n",
              "    </tr>\n",
              "  </thead>\n",
              "  <tbody>\n",
              "    <tr>\n",
              "      <th>0</th>\n",
              "      <td>1</td>\n",
              "      <td>1</td>\n",
              "    </tr>\n",
              "    <tr>\n",
              "      <th>1</th>\n",
              "      <td>2</td>\n",
              "      <td>1</td>\n",
              "    </tr>\n",
              "  </tbody>\n",
              "</table>\n",
              "</div>"
            ],
            "text/plain": [
              "   id  label\n",
              "0   1      1\n",
              "1   2      1"
            ]
          },
          "metadata": {
            "tags": []
          },
          "execution_count": 4
        }
      ]
    },
    {
      "cell_type": "code",
      "metadata": {
        "id": "FEMduJcfSNUq",
        "colab_type": "code",
        "outputId": "ff40bf74-f1d2-4fea-8ffc-92a486699eba",
        "colab": {
          "base_uri": "https://localhost:8080/",
          "height": 111
        }
      },
      "source": [
        "train_test = pd.read_csv(PATH/\"train_test_split.txt\", header=None, sep=\" \")\n",
        "train_test.columns = [\"id\", \"is_train\"]\n",
        "train_test.head(2)"
      ],
      "execution_count": 0,
      "outputs": [
        {
          "output_type": "execute_result",
          "data": {
            "text/html": [
              "<div>\n",
              "<style scoped>\n",
              "    .dataframe tbody tr th:only-of-type {\n",
              "        vertical-align: middle;\n",
              "    }\n",
              "\n",
              "    .dataframe tbody tr th {\n",
              "        vertical-align: top;\n",
              "    }\n",
              "\n",
              "    .dataframe thead th {\n",
              "        text-align: right;\n",
              "    }\n",
              "</style>\n",
              "<table border=\"1\" class=\"dataframe\">\n",
              "  <thead>\n",
              "    <tr style=\"text-align: right;\">\n",
              "      <th></th>\n",
              "      <th>id</th>\n",
              "      <th>is_train</th>\n",
              "    </tr>\n",
              "  </thead>\n",
              "  <tbody>\n",
              "    <tr>\n",
              "      <th>0</th>\n",
              "      <td>1</td>\n",
              "      <td>0</td>\n",
              "    </tr>\n",
              "    <tr>\n",
              "      <th>1</th>\n",
              "      <td>2</td>\n",
              "      <td>1</td>\n",
              "    </tr>\n",
              "  </tbody>\n",
              "</table>\n",
              "</div>"
            ],
            "text/plain": [
              "   id  is_train\n",
              "0   1         0\n",
              "1   2         1"
            ]
          },
          "metadata": {
            "tags": []
          },
          "execution_count": 5
        }
      ]
    },
    {
      "cell_type": "code",
      "metadata": {
        "id": "zWkjOuImSUwb",
        "colab_type": "code",
        "outputId": "59151aa4-f42a-4ebd-9dcd-6464bcb9fc1a",
        "colab": {
          "base_uri": "https://localhost:8080/",
          "height": 111
        }
      },
      "source": [
        "images = pd.read_csv(PATH/\"images.txt\", header=None, sep=\" \")\n",
        "images.columns = [\"id\", \"name\"]\n",
        "images.head(2)"
      ],
      "execution_count": 0,
      "outputs": [
        {
          "output_type": "execute_result",
          "data": {
            "text/html": [
              "<div>\n",
              "<style scoped>\n",
              "    .dataframe tbody tr th:only-of-type {\n",
              "        vertical-align: middle;\n",
              "    }\n",
              "\n",
              "    .dataframe tbody tr th {\n",
              "        vertical-align: top;\n",
              "    }\n",
              "\n",
              "    .dataframe thead th {\n",
              "        text-align: right;\n",
              "    }\n",
              "</style>\n",
              "<table border=\"1\" class=\"dataframe\">\n",
              "  <thead>\n",
              "    <tr style=\"text-align: right;\">\n",
              "      <th></th>\n",
              "      <th>id</th>\n",
              "      <th>name</th>\n",
              "    </tr>\n",
              "  </thead>\n",
              "  <tbody>\n",
              "    <tr>\n",
              "      <th>0</th>\n",
              "      <td>1</td>\n",
              "      <td>001.Black_footed_Albatross/Black_Footed_Albatr...</td>\n",
              "    </tr>\n",
              "    <tr>\n",
              "      <th>1</th>\n",
              "      <td>2</td>\n",
              "      <td>001.Black_footed_Albatross/Black_Footed_Albatr...</td>\n",
              "    </tr>\n",
              "  </tbody>\n",
              "</table>\n",
              "</div>"
            ],
            "text/plain": [
              "   id                                               name\n",
              "0   1  001.Black_footed_Albatross/Black_Footed_Albatr...\n",
              "1   2  001.Black_footed_Albatross/Black_Footed_Albatr..."
            ]
          },
          "metadata": {
            "tags": []
          },
          "execution_count": 6
        }
      ]
    },
    {
      "cell_type": "code",
      "metadata": {
        "id": "y3cfk7U7Sa1s",
        "colab_type": "code",
        "outputId": "3e7cef65-9f91-442a-c9a5-bc28bba299bb",
        "colab": {
          "base_uri": "https://localhost:8080/",
          "height": 111
        }
      },
      "source": [
        "classes = pd.read_csv(PATH/\"classes.txt\", header=None, sep=\" \")\n",
        "classes.columns = [\"id\", \"class\"]\n",
        "classes.head(2)"
      ],
      "execution_count": 0,
      "outputs": [
        {
          "output_type": "execute_result",
          "data": {
            "text/html": [
              "<div>\n",
              "<style scoped>\n",
              "    .dataframe tbody tr th:only-of-type {\n",
              "        vertical-align: middle;\n",
              "    }\n",
              "\n",
              "    .dataframe tbody tr th {\n",
              "        vertical-align: top;\n",
              "    }\n",
              "\n",
              "    .dataframe thead th {\n",
              "        text-align: right;\n",
              "    }\n",
              "</style>\n",
              "<table border=\"1\" class=\"dataframe\">\n",
              "  <thead>\n",
              "    <tr style=\"text-align: right;\">\n",
              "      <th></th>\n",
              "      <th>id</th>\n",
              "      <th>class</th>\n",
              "    </tr>\n",
              "  </thead>\n",
              "  <tbody>\n",
              "    <tr>\n",
              "      <th>0</th>\n",
              "      <td>1</td>\n",
              "      <td>001.Black_footed_Albatross</td>\n",
              "    </tr>\n",
              "    <tr>\n",
              "      <th>1</th>\n",
              "      <td>2</td>\n",
              "      <td>002.Laysan_Albatross</td>\n",
              "    </tr>\n",
              "  </tbody>\n",
              "</table>\n",
              "</div>"
            ],
            "text/plain": [
              "   id                       class\n",
              "0   1  001.Black_footed_Albatross\n",
              "1   2        002.Laysan_Albatross"
            ]
          },
          "metadata": {
            "tags": []
          },
          "execution_count": 7
        }
      ]
    },
    {
      "cell_type": "code",
      "metadata": {
        "id": "ayRqdrn0Sffz",
        "colab_type": "code",
        "outputId": "47ee4b37-ecbd-4374-e614-2482260a24bd",
        "colab": {
          "base_uri": "https://localhost:8080/",
          "height": 34
        }
      },
      "source": [
        "categories = [x for x in classes[\"class\"]]\n",
        "len(categories)"
      ],
      "execution_count": 0,
      "outputs": [
        {
          "output_type": "execute_result",
          "data": {
            "text/plain": [
              "200"
            ]
          },
          "metadata": {
            "tags": []
          },
          "execution_count": 8
        }
      ]
    },
    {
      "cell_type": "code",
      "metadata": {
        "id": "yB5WFmWnSkPs",
        "colab_type": "code",
        "colab": {}
      },
      "source": [
        "nrows, ncols = 224, 224\n",
        "channels = 3\n",
        "\n",
        "def read_process_images(files_path, labels, train_test, image_name, train=True):\n",
        "  \"\"\"\n",
        "    Return two arrays:\n",
        "      X is an array of resized images\n",
        "      y is an array of labels\n",
        "  \"\"\"\n",
        "  if train:\n",
        "    mask = train_test.is_train.values == 1\n",
        "  else:\n",
        "    mask = train_test.is_train.values == 0\n",
        "\n",
        "  filenames = image_name.iloc[mask]\n",
        "  labels = labels.iloc[mask]\n",
        "  num_files = labels.shape[0]\n",
        "  X = []\n",
        "  y = list(labels['label'])\n",
        "  for image in filenames['name']:\n",
        "    X.append(cv2.resize(read_image(str(files_path) + '/images/' + image), (nrows, ncols), interpolation=cv2.INTER_CUBIC))\n",
        "\n",
        "  return X, y"
      ],
      "execution_count": 0,
      "outputs": []
    },
    {
      "cell_type": "code",
      "metadata": {
        "id": "KgPY3JxhTnMv",
        "colab_type": "code",
        "colab": {}
      },
      "source": [
        "X, y = read_process_images(PATH, labels, train_test, images)"
      ],
      "execution_count": 0,
      "outputs": []
    },
    {
      "cell_type": "code",
      "metadata": {
        "id": "JY6MFcNWUQDT",
        "colab_type": "code",
        "colab": {}
      },
      "source": [
        "# plt.figure(figsize=(20,10))\n",
        "# columns=5\n",
        "# for i in range(columns):\n",
        "#   plt.subplot(5/columns+1, columns, i + 1)\n",
        "#   plt.imshow(X[i])"
      ],
      "execution_count": 0,
      "outputs": []
    },
    {
      "cell_type": "code",
      "metadata": {
        "id": "iY0cNs8_URjC",
        "colab_type": "code",
        "colab": {}
      },
      "source": [
        "import seaborn as sns\n",
        "X = np.array(X)\n",
        "y = np.array(y)\n",
        "\n",
        "# plt.figure(figsize=(50,5))\n",
        "# sns.countplot(y)\n",
        "# plt.title('Labels for Birds')"
      ],
      "execution_count": 0,
      "outputs": []
    },
    {
      "cell_type": "code",
      "metadata": {
        "id": "kiL3sy0zc-Dp",
        "colab_type": "code",
        "outputId": "cf84da77-6936-443f-b961-a8e4b1bf756f",
        "colab": {
          "base_uri": "https://localhost:8080/",
          "height": 51
        }
      },
      "source": [
        "print(\"Shape of train images: \", X.shape)\n",
        "print(\"Shape of labels: \", y.shape)"
      ],
      "execution_count": 0,
      "outputs": [
        {
          "output_type": "stream",
          "text": [
            "Shape of train images:  (5994, 224, 224, 3)\n",
            "Shape of labels:  (5994,)\n"
          ],
          "name": "stdout"
        }
      ]
    },
    {
      "cell_type": "code",
      "metadata": {
        "id": "1wm32bzXeErt",
        "colab_type": "code",
        "outputId": "ed794f4d-5cc6-4f6e-9a21-2debf6ca28b6",
        "colab": {
          "base_uri": "https://localhost:8080/",
          "height": 51
        }
      },
      "source": [
        "from keras.utils import to_categorical\n",
        "from keras.optimizers import Adam, RMSprop\n",
        "from keras.models import Model\n",
        "from keras.layers import Dense,GlobalAveragePooling2D\n",
        "from keras.preprocessing.image import ImageDataGenerator\n",
        "from keras.preprocessing.image import img_to_array, load_img\n",
        "from keras.applications import ResNet50V2\n",
        "from sklearn.model_selection import train_test_split\n",
        "\n",
        "y = to_categorical(y-1)\n",
        "X_train, X_val, y_train, y_val = train_test_split(X, y, test_size=0.2, random_state=2)\n",
        "\n",
        "ntrain = len(X_train)\n",
        "nval = len(X_val)\n",
        "\n",
        "batch_size = 64\n",
        "NUM_EPOCHS = 10\n",
        "NUM_CLASSES = 200\n",
        "IMG_SHAPE = (ncols, nrows, 3)\n",
        "print(X.shape)\n",
        "print(y.shape)"
      ],
      "execution_count": 0,
      "outputs": [
        {
          "output_type": "stream",
          "text": [
            "(5994, 224, 224, 3)\n",
            "(5994, 200)\n"
          ],
          "name": "stdout"
        }
      ]
    },
    {
      "cell_type": "code",
      "metadata": {
        "id": "Va9HQ0aEe3MO",
        "colab_type": "code",
        "colab": {}
      },
      "source": [
        "base_model = ResNet50V2(input_shape=IMG_SHAPE, weights='imagenet', include_top=False)\n",
        "base_model.trainable = False\n",
        "\n",
        "x = base_model.output\n",
        "x = GlobalAveragePooling2D()(x)\n",
        "x = Dense(1024,activation='relu')(x) # add dense layers so that the model can learn more complex functions and classify for better results.\n",
        "x = Dense(1024,activation='relu')(x) # dense layer 2\n",
        "x = Dense(512,activation='relu')(x) # dense layer 3\n",
        "preds = Dense(NUM_CLASSES,activation='softmax')(x) #final layer with softmax activation\n",
        "\n",
        "model = Model(inputs=base_model.input,outputs=preds)\n",
        "\n",
        "for layer in model.layers[:20]:\n",
        "    layer.trainable=False\n",
        "for layer in model.layers[20:]:\n",
        "    layer.trainable=True\n",
        "\n",
        "model.compile(loss=\"categorical_crossentropy\", optimizer='Adam', metrics=['accuracy'])\n",
        "\n",
        "# model.summary()"
      ],
      "execution_count": 0,
      "outputs": []
    },
    {
      "cell_type": "code",
      "metadata": {
        "id": "kHHOc85KhgWp",
        "colab_type": "code",
        "colab": {}
      },
      "source": [
        "train_datagen = ImageDataGenerator(rescale = 1./255,\n",
        "                                   rotation_range = 40,width_shift_range = 0.2,\n",
        "                                   height_shift_range = 0.2,\n",
        "                                   shear_range = 0.2,\n",
        "                                   zoom_range = 0.2,\n",
        "                                   horizontal_flip = True,)\n",
        "val_datagen = ImageDataGenerator(rescale= 1./255,)"
      ],
      "execution_count": 0,
      "outputs": []
    },
    {
      "cell_type": "code",
      "metadata": {
        "id": "dYagJz7SitKN",
        "colab_type": "code",
        "outputId": "01dc0dc4-7ded-4448-f29d-5386fda092b4",
        "colab": {
          "base_uri": "https://localhost:8080/",
          "height": 357
        }
      },
      "source": [
        "# clear memory\n",
        "try:\n",
        "  del X\n",
        "  del y\n",
        "  gc.collect()\n",
        "except:\n",
        "  pass\n",
        "\n",
        "train_generator = train_datagen.flow(X_train, y_train, batch_size=batch_size)\n",
        "val_generator = val_datagen.flow(X_val, y_val, batch_size=batch_size)\n",
        "\n",
        "history = model.fit_generator(train_generator, \n",
        "                              steps_per_epoch = ntrain // batch_size,\n",
        "                              epochs = NUM_EPOCHS,\n",
        "                              validation_data = val_generator,\n",
        "                              validation_steps = nval // batch_size)"
      ],
      "execution_count": 0,
      "outputs": [
        {
          "output_type": "stream",
          "text": [
            "Epoch 1/10\n",
            "74/74 [==============================] - 105s 1s/step - loss: 5.2731 - accuracy: 0.0078 - val_loss: 392.9177 - val_accuracy: 0.0061\n",
            "Epoch 2/10\n",
            "74/74 [==============================] - 81s 1s/step - loss: 5.0518 - accuracy: 0.0131 - val_loss: 29.6148 - val_accuracy: 0.0070\n",
            "Epoch 3/10\n",
            "74/74 [==============================] - 79s 1s/step - loss: 4.8843 - accuracy: 0.0190 - val_loss: 33.1187 - val_accuracy: 0.0053\n",
            "Epoch 4/10\n",
            "74/74 [==============================] - 79s 1s/step - loss: 4.7200 - accuracy: 0.0237 - val_loss: 15.1137 - val_accuracy: 0.0097\n",
            "Epoch 5/10\n",
            "74/74 [==============================] - 80s 1s/step - loss: 4.5986 - accuracy: 0.0268 - val_loss: 7.2943 - val_accuracy: 0.0150\n",
            "Epoch 6/10\n",
            "74/74 [==============================] - 80s 1s/step - loss: 4.4586 - accuracy: 0.0410 - val_loss: 15.5288 - val_accuracy: 0.0123\n",
            "Epoch 7/10\n",
            "74/74 [==============================] - 79s 1s/step - loss: 4.3521 - accuracy: 0.0423 - val_loss: 8.1465 - val_accuracy: 0.0194\n",
            "Epoch 8/10\n",
            "74/74 [==============================] - 78s 1s/step - loss: 4.2578 - accuracy: 0.0558 - val_loss: 5.7294 - val_accuracy: 0.0352\n",
            "Epoch 9/10\n",
            "74/74 [==============================] - 78s 1s/step - loss: 4.1635 - accuracy: 0.0574 - val_loss: 5.0289 - val_accuracy: 0.0344\n",
            "Epoch 10/10\n",
            "74/74 [==============================] - 78s 1s/step - loss: 4.0876 - accuracy: 0.0666 - val_loss: 5.2754 - val_accuracy: 0.0211\n"
          ],
          "name": "stdout"
        }
      ]
    },
    {
      "cell_type": "code",
      "metadata": {
        "id": "TyKT2M19kA9h",
        "colab_type": "code",
        "outputId": "bb2382c5-e85f-44d2-a23d-e20f85f394f1",
        "colab": {
          "base_uri": "https://localhost:8080/",
          "height": 545
        }
      },
      "source": [
        "acc = history.history['accuracy']\n",
        "val_acc = history.history['val_accuracy']\n",
        "loss = history.history['loss']\n",
        "val_loss = history.history['val_loss']\n",
        "\n",
        "epochs = range(1, NUM_EPOCHS + 1)\n",
        "\n",
        "plt.plot(epochs, acc, 'b', label = \"Training Accuracy\")\n",
        "plt.plot(epochs, val_acc, 'r', label = \"Validation Accuracy\")\n",
        "plt.title(\"Training and Validation Accuracy\")\n",
        "plt.legend()\n",
        "\n",
        "plt.figure()\n",
        "plt.plot(epochs, loss, 'b', label = \"Training Loss\")\n",
        "plt.plot(epochs, val_loss, 'r', label = \"Validation Loss\")\n",
        "plt.title(\"Training and Validation Loss\")\n",
        "plt.legend()\n",
        "\n",
        "plt.show()"
      ],
      "execution_count": 0,
      "outputs": [
        {
          "output_type": "display_data",
          "data": {
            "image/png": "[encoded data removed]",
            "text/plain": [
              "<Figure size 432x288 with 1 Axes>"
            ]
          },
          "metadata": {
            "tags": [],
            "needs_background": "light"
          }
        },
        {
          "output_type": "display_data",
          "data": {
            "image/png": "[encoded data removed]",
            "text/plain": [
              "<Figure size 432x288 with 1 Axes>"
            ]
          },
          "metadata": {
            "tags": [],
            "needs_background": "light"
          }
        }
      ]
    },
    {
      "cell_type": "code",
      "metadata": {
        "id": "0uNOS96RL2rQ",
        "colab_type": "code",
        "colab": {}
      },
      "source": [
        ""
      ],
      "execution_count": 0,
      "outputs": []
    }
  ]
}