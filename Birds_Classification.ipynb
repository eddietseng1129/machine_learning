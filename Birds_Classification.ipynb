{
  "nbformat": 4,
  "nbformat_minor": 0,
  "metadata": {
    "colab": {
      "name": "Birds_Classification.ipynb",
      "provenance": [],
      "authorship_tag": "ABX9TyO8jJN3bGwTlxk9K8J2Oltt",
      "include_colab_link": true
    },
    "kernelspec": {
      "name": "python3",
      "display_name": "Python 3"
    },
    "accelerator": "GPU"
  },
  "cells": [
    {
      "cell_type": "markdown",
      "metadata": {
        "id": "view-in-github",
        "colab_type": "text"
      },
      "source": [
        "<a href=\"https://colab.research.google.com/github/eddietseng1129/machine_learning/blob/master/Birds_Classification.ipynb\" target=\"_parent\"><img src=\"https://colab.research.google.com/assets/colab-badge.svg\" alt=\"Open In Colab\"/></a>"
      ]
    },
    {
      "cell_type": "code",
      "metadata": {
        "id": "F38_A912LM2T",
        "colab_type": "code",
        "colab": {}
      },
      "source": [
        "# # Download data\n",
        "# !wget http://www.vision.caltech.edu/visipedia-data/CUB-200-2011/CUB_200_2011.tgz\n",
        "# # Uncompress files\n",
        "# !tar xvzf CUB_200_2011.tgz\n"
      ],
      "execution_count": 0,
      "outputs": []
    },
    {
      "cell_type": "code",
      "metadata": {
        "id": "WhWcur6hNnZX",
        "colab_type": "code",
        "colab": {}
      },
      "source": [
        "import cv2\n",
        "import numpy as np\n",
        "import pandas as pd\n",
        "import matplotlib.pyplot as plt\n",
        "\n",
        "import os\n",
        "import random\n",
        "import gc\n",
        "\n",
        "from pathlib import Path"
      ],
      "execution_count": 0,
      "outputs": []
    },
    {
      "cell_type": "code",
      "metadata": {
        "id": "NGbHoMtfR5cC",
        "colab_type": "code",
        "colab": {}
      },
      "source": [
        "# BGR -> RGB\n",
        "def read_image(path):\n",
        "    im = cv2.imread(str(path))\n",
        "    return cv2.cvtColor(im, cv2.COLOR_BGR2RGB)"
      ],
      "execution_count": 0,
      "outputs": []
    },
    {
      "cell_type": "code",
      "metadata": {
        "id": "DrG-3ZPkSKga",
        "colab_type": "code",
        "outputId": "63c88ac8-4a49-467e-85ca-0c8f5032c0fe",
        "colab": {
          "base_uri": "https://localhost:8080/",
          "height": 111
        }
      },
      "source": [
        "PATH = Path('./CUB_200_2011')\n",
        "labels = pd.read_csv(PATH/\"image_class_labels.txt\", header=None, sep=\" \")\n",
        "labels.columns = [\"id\", \"label\"]\n",
        "labels.head(2)"
      ],
      "execution_count": 4,
      "outputs": [
        {
          "output_type": "execute_result",
          "data": {
            "text/html": [
              "<div>\n",
              "<style scoped>\n",
              "    .dataframe tbody tr th:only-of-type {\n",
              "        vertical-align: middle;\n",
              "    }\n",
              "\n",
              "    .dataframe tbody tr th {\n",
              "        vertical-align: top;\n",
              "    }\n",
              "\n",
              "    .dataframe thead th {\n",
              "        text-align: right;\n",
              "    }\n",
              "</style>\n",
              "<table border=\"1\" class=\"dataframe\">\n",
              "  <thead>\n",
              "    <tr style=\"text-align: right;\">\n",
              "      <th></th>\n",
              "      <th>id</th>\n",
              "      <th>label</th>\n",
              "    </tr>\n",
              "  </thead>\n",
              "  <tbody>\n",
              "    <tr>\n",
              "      <th>0</th>\n",
              "      <td>1</td>\n",
              "      <td>1</td>\n",
              "    </tr>\n",
              "    <tr>\n",
              "      <th>1</th>\n",
              "      <td>2</td>\n",
              "      <td>1</td>\n",
              "    </tr>\n",
              "  </tbody>\n",
              "</table>\n",
              "</div>"
            ],
            "text/plain": [
              "   id  label\n",
              "0   1      1\n",
              "1   2      1"
            ]
          },
          "metadata": {
            "tags": []
          },
          "execution_count": 4
        }
      ]
    },
    {
      "cell_type": "code",
      "metadata": {
        "id": "FEMduJcfSNUq",
        "colab_type": "code",
        "outputId": "3667a9de-7cb9-4775-99f8-ca81d8dcd502",
        "colab": {
          "base_uri": "https://localhost:8080/",
          "height": 111
        }
      },
      "source": [
        "train_test = pd.read_csv(PATH/\"train_test_split.txt\", header=None, sep=\" \")\n",
        "train_test.columns = [\"id\", \"is_train\"]\n",
        "train_test.head(2)"
      ],
      "execution_count": 5,
      "outputs": [
        {
          "output_type": "execute_result",
          "data": {
            "text/html": [
              "<div>\n",
              "<style scoped>\n",
              "    .dataframe tbody tr th:only-of-type {\n",
              "        vertical-align: middle;\n",
              "    }\n",
              "\n",
              "    .dataframe tbody tr th {\n",
              "        vertical-align: top;\n",
              "    }\n",
              "\n",
              "    .dataframe thead th {\n",
              "        text-align: right;\n",
              "    }\n",
              "</style>\n",
              "<table border=\"1\" class=\"dataframe\">\n",
              "  <thead>\n",
              "    <tr style=\"text-align: right;\">\n",
              "      <th></th>\n",
              "      <th>id</th>\n",
              "      <th>is_train</th>\n",
              "    </tr>\n",
              "  </thead>\n",
              "  <tbody>\n",
              "    <tr>\n",
              "      <th>0</th>\n",
              "      <td>1</td>\n",
              "      <td>0</td>\n",
              "    </tr>\n",
              "    <tr>\n",
              "      <th>1</th>\n",
              "      <td>2</td>\n",
              "      <td>1</td>\n",
              "    </tr>\n",
              "  </tbody>\n",
              "</table>\n",
              "</div>"
            ],
            "text/plain": [
              "   id  is_train\n",
              "0   1         0\n",
              "1   2         1"
            ]
          },
          "metadata": {
            "tags": []
          },
          "execution_count": 5
        }
      ]
    },
    {
      "cell_type": "code",
      "metadata": {
        "id": "zWkjOuImSUwb",
        "colab_type": "code",
        "outputId": "ffd34ca7-d981-4a1c-e62e-42632ff1ce2f",
        "colab": {
          "base_uri": "https://localhost:8080/",
          "height": 111
        }
      },
      "source": [
        "images = pd.read_csv(PATH/\"images.txt\", header=None, sep=\" \")\n",
        "images.columns = [\"id\", \"name\"]\n",
        "images.head(2)"
      ],
      "execution_count": 6,
      "outputs": [
        {
          "output_type": "execute_result",
          "data": {
            "text/html": [
              "<div>\n",
              "<style scoped>\n",
              "    .dataframe tbody tr th:only-of-type {\n",
              "        vertical-align: middle;\n",
              "    }\n",
              "\n",
              "    .dataframe tbody tr th {\n",
              "        vertical-align: top;\n",
              "    }\n",
              "\n",
              "    .dataframe thead th {\n",
              "        text-align: right;\n",
              "    }\n",
              "</style>\n",
              "<table border=\"1\" class=\"dataframe\">\n",
              "  <thead>\n",
              "    <tr style=\"text-align: right;\">\n",
              "      <th></th>\n",
              "      <th>id</th>\n",
              "      <th>name</th>\n",
              "    </tr>\n",
              "  </thead>\n",
              "  <tbody>\n",
              "    <tr>\n",
              "      <th>0</th>\n",
              "      <td>1</td>\n",
              "      <td>001.Black_footed_Albatross/Black_Footed_Albatr...</td>\n",
              "    </tr>\n",
              "    <tr>\n",
              "      <th>1</th>\n",
              "      <td>2</td>\n",
              "      <td>001.Black_footed_Albatross/Black_Footed_Albatr...</td>\n",
              "    </tr>\n",
              "  </tbody>\n",
              "</table>\n",
              "</div>"
            ],
            "text/plain": [
              "   id                                               name\n",
              "0   1  001.Black_footed_Albatross/Black_Footed_Albatr...\n",
              "1   2  001.Black_footed_Albatross/Black_Footed_Albatr..."
            ]
          },
          "metadata": {
            "tags": []
          },
          "execution_count": 6
        }
      ]
    },
    {
      "cell_type": "code",
      "metadata": {
        "id": "y3cfk7U7Sa1s",
        "colab_type": "code",
        "outputId": "8c4109d0-6f1c-494a-e09e-dd5de4df900d",
        "colab": {
          "base_uri": "https://localhost:8080/",
          "height": 111
        }
      },
      "source": [
        "classes = pd.read_csv(PATH/\"classes.txt\", header=None, sep=\" \")\n",
        "classes.columns = [\"id\", \"class\"]\n",
        "classes.head(2)"
      ],
      "execution_count": 7,
      "outputs": [
        {
          "output_type": "execute_result",
          "data": {
            "text/html": [
              "<div>\n",
              "<style scoped>\n",
              "    .dataframe tbody tr th:only-of-type {\n",
              "        vertical-align: middle;\n",
              "    }\n",
              "\n",
              "    .dataframe tbody tr th {\n",
              "        vertical-align: top;\n",
              "    }\n",
              "\n",
              "    .dataframe thead th {\n",
              "        text-align: right;\n",
              "    }\n",
              "</style>\n",
              "<table border=\"1\" class=\"dataframe\">\n",
              "  <thead>\n",
              "    <tr style=\"text-align: right;\">\n",
              "      <th></th>\n",
              "      <th>id</th>\n",
              "      <th>class</th>\n",
              "    </tr>\n",
              "  </thead>\n",
              "  <tbody>\n",
              "    <tr>\n",
              "      <th>0</th>\n",
              "      <td>1</td>\n",
              "      <td>001.Black_footed_Albatross</td>\n",
              "    </tr>\n",
              "    <tr>\n",
              "      <th>1</th>\n",
              "      <td>2</td>\n",
              "      <td>002.Laysan_Albatross</td>\n",
              "    </tr>\n",
              "  </tbody>\n",
              "</table>\n",
              "</div>"
            ],
            "text/plain": [
              "   id                       class\n",
              "0   1  001.Black_footed_Albatross\n",
              "1   2        002.Laysan_Albatross"
            ]
          },
          "metadata": {
            "tags": []
          },
          "execution_count": 7
        }
      ]
    },
    {
      "cell_type": "code",
      "metadata": {
        "id": "ayRqdrn0Sffz",
        "colab_type": "code",
        "outputId": "66981246-33a8-4dd6-8e2a-5c301a87cbc8",
        "colab": {
          "base_uri": "https://localhost:8080/",
          "height": 34
        }
      },
      "source": [
        "categories = [x for x in classes[\"class\"]]\n",
        "len(categories)"
      ],
      "execution_count": 8,
      "outputs": [
        {
          "output_type": "execute_result",
          "data": {
            "text/plain": [
              "200"
            ]
          },
          "metadata": {
            "tags": []
          },
          "execution_count": 8
        }
      ]
    },
    {
      "cell_type": "code",
      "metadata": {
        "id": "yB5WFmWnSkPs",
        "colab_type": "code",
        "colab": {}
      },
      "source": [
        "nrows, ncols = 299, 299\n",
        "channels = 3\n",
        "\n",
        "def read_process_images(files_path, labels, train_test, image_name, train=True):\n",
        "  \"\"\"\n",
        "    Return two arrays:\n",
        "      X is an array of resized images\n",
        "      y is an array of labels\n",
        "  \"\"\"\n",
        "  if train:\n",
        "    mask = train_test.is_train.values == 1\n",
        "  else:\n",
        "    mask = train_test.is_train.values == 0\n",
        "\n",
        "  filenames = image_name.iloc[mask]\n",
        "  labels = labels.iloc[mask]\n",
        "  num_files = labels.shape[0]\n",
        "  X = []\n",
        "  y = list(labels['label'])\n",
        "  for image in filenames['name']:\n",
        "    X.append(cv2.resize(read_image(str(files_path) + '/images/' + image), (nrows, ncols), interpolation=cv2.INTER_CUBIC))\n",
        "\n",
        "  return X, y"
      ],
      "execution_count": 0,
      "outputs": []
    },
    {
      "cell_type": "code",
      "metadata": {
        "id": "KgPY3JxhTnMv",
        "colab_type": "code",
        "colab": {}
      },
      "source": [
        "X, y = read_process_images(PATH, labels, train_test, images)"
      ],
      "execution_count": 0,
      "outputs": []
    },
    {
      "cell_type": "code",
      "metadata": {
        "id": "JY6MFcNWUQDT",
        "colab_type": "code",
        "colab": {}
      },
      "source": [
        "# plt.figure(figsize=(20,10))\n",
        "# columns=5\n",
        "# for i in range(columns):\n",
        "#   plt.subplot(5/columns+1, columns, i + 1)\n",
        "#   plt.imshow(X[i])"
      ],
      "execution_count": 0,
      "outputs": []
    },
    {
      "cell_type": "code",
      "metadata": {
        "id": "iY0cNs8_URjC",
        "colab_type": "code",
        "colab": {
          "base_uri": "https://localhost:8080/",
          "height": 71
        },
        "outputId": "0c69da68-e690-4fc4-d742-01daf0d272fc"
      },
      "source": [
        "import seaborn as sns\n",
        "X = np.array(X)\n",
        "y = np.array(y)\n",
        "\n",
        "# plt.figure(figsize=(50,5))\n",
        "# sns.countplot(y)\n",
        "# plt.title('Labels for Birds')"
      ],
      "execution_count": 12,
      "outputs": [
        {
          "output_type": "stream",
          "text": [
            "/usr/local/lib/python3.6/dist-packages/statsmodels/tools/_testing.py:19: FutureWarning: pandas.util.testing is deprecated. Use the functions in the public API at pandas.testing instead.\n",
            "  import pandas.util.testing as tm\n"
          ],
          "name": "stderr"
        }
      ]
    },
    {
      "cell_type": "code",
      "metadata": {
        "id": "kiL3sy0zc-Dp",
        "colab_type": "code",
        "outputId": "9d3354a7-e099-4b12-b313-28db25eea00c",
        "colab": {
          "base_uri": "https://localhost:8080/",
          "height": 51
        }
      },
      "source": [
        "print(\"Shape of train images: \", X.shape)\n",
        "print(\"Shape of labels: \", y.shape)"
      ],
      "execution_count": 13,
      "outputs": [
        {
          "output_type": "stream",
          "text": [
            "Shape of train images:  (5994, 299, 299, 3)\n",
            "Shape of labels:  (5994,)\n"
          ],
          "name": "stdout"
        }
      ]
    },
    {
      "cell_type": "code",
      "metadata": {
        "id": "1wm32bzXeErt",
        "colab_type": "code",
        "outputId": "70598476-bd0e-4550-fe20-c7632a90b88d",
        "colab": {
          "base_uri": "https://localhost:8080/",
          "height": 68
        }
      },
      "source": [
        "from keras.utils import to_categorical\n",
        "from keras.optimizers import Adam, RMSprop\n",
        "from keras.models import Model\n",
        "from keras.layers import Dense,GlobalAveragePooling2D, Dropout\n",
        "from keras.preprocessing.image import ImageDataGenerator\n",
        "from keras.preprocessing.image import img_to_array, load_img\n",
        "from keras.applications import ResNet50V2, InceptionV3\n",
        "from sklearn.model_selection import train_test_split\n",
        "\n",
        "batch_size = 32\n",
        "NUM_EPOCHS = 10\n",
        "NUM_CLASSES = 200\n",
        "IMG_SHAPE = (ncols, nrows, 3)\n",
        "\n",
        "y = to_categorical(y-1)\n",
        "X_train, X_val, y_train, y_val = train_test_split(X, y, test_size=0.2, random_state=2)\n",
        "\n",
        "ntrain = len(X_train)\n",
        "nval = len(X_val)\n",
        "\n",
        "print(X.shape)\n",
        "print(y.shape)"
      ],
      "execution_count": 14,
      "outputs": [
        {
          "output_type": "stream",
          "text": [
            "Using TensorFlow backend.\n"
          ],
          "name": "stderr"
        },
        {
          "output_type": "stream",
          "text": [
            "(5994, 299, 299, 3)\n",
            "(5994, 200)\n"
          ],
          "name": "stdout"
        }
      ]
    },
    {
      "cell_type": "code",
      "metadata": {
        "id": "Va9HQ0aEe3MO",
        "colab_type": "code",
        "colab": {}
      },
      "source": [
        "# base_model = ResNet50V2(input_shape=IMG_SHAPE, weights='imagenet', include_top=False)\n",
        "base_model = InceptionV3(input_shape=IMG_SHAPE, weights='imagenet', include_top=False)\n",
        "# base_model.trainable = False\n",
        "\n",
        "x = base_model.output\n",
        "x = GlobalAveragePooling2D()(x)\n",
        "# x = Dropout(0.5)(x)\n",
        "x = Dense(1024,activation='relu')(x) # add dense layers so that the model can learn more complex functions and classify for better results.\n",
        "# x = Dropout(0.5)(x)\n",
        "x = Dense(1024,activation='relu')(x) # dense layer 2\n",
        "# x = Dropout(0.25)(x)\n",
        "x = Dense(512,activation='relu')(x) # dense layer 3\n",
        "preds = Dense(NUM_CLASSES,activation='softmax')(x) #final layer with softmax activation\n",
        "\n",
        "model = Model(inputs=base_model.input,outputs=preds)\n",
        "\n",
        "for layer in model.layers[:10]:\n",
        "    layer.trainable=False\n",
        "for layer in model.layers[10:]:\n",
        "    layer.trainable=True\n",
        "\n",
        "model.compile(loss=\"categorical_crossentropy\", optimizer=RMSprop(lr=1e-4), metrics=['accuracy'])\n",
        "\n",
        "# model.summary()"
      ],
      "execution_count": 0,
      "outputs": []
    },
    {
      "cell_type": "code",
      "metadata": {
        "id": "kHHOc85KhgWp",
        "colab_type": "code",
        "colab": {}
      },
      "source": [
        "train_datagen = ImageDataGenerator(rescale = 1./255,\n",
        "                                   rotation_range = 40,\n",
        "                                   width_shift_range = 0.2,\n",
        "                                   height_shift_range = 0.2,\n",
        "                                   shear_range = 0.2,\n",
        "                                   zoom_range = 0.2,\n",
        "                                   horizontal_flip = True,)\n",
        "val_datagen = ImageDataGenerator(rescale= 1./255,)"
      ],
      "execution_count": 0,
      "outputs": []
    },
    {
      "cell_type": "code",
      "metadata": {
        "id": "dYagJz7SitKN",
        "colab_type": "code",
        "outputId": "4c54e267-3535-4596-eecd-1ba9695f905f",
        "colab": {
          "base_uri": "https://localhost:8080/",
          "height": 357
        }
      },
      "source": [
        "# clear memory\n",
        "try:\n",
        "  del X\n",
        "  del y\n",
        "  gc.collect()\n",
        "except:\n",
        "  pass\n",
        "\n",
        "train_generator = train_datagen.flow(X_train, y_train, batch_size=batch_size)\n",
        "val_generator = val_datagen.flow(X_val, y_val, batch_size=batch_size)\n",
        "\n",
        "history = model.fit_generator(train_generator, \n",
        "                              steps_per_epoch = ntrain // batch_size,\n",
        "                              epochs = NUM_EPOCHS,\n",
        "                              validation_data = val_generator,\n",
        "                              validation_steps = nval // batch_size)"
      ],
      "execution_count": 17,
      "outputs": [
        {
          "output_type": "stream",
          "text": [
            "Epoch 1/10\n",
            "149/149 [==============================] - 148s 994ms/step - loss: 4.5465 - accuracy: 0.0957 - val_loss: 2.6289 - val_accuracy: 0.2204\n",
            "Epoch 2/10\n",
            "149/149 [==============================] - 122s 820ms/step - loss: 2.4563 - accuracy: 0.3714 - val_loss: 2.1378 - val_accuracy: 0.4464\n",
            "Epoch 3/10\n",
            "149/149 [==============================] - 122s 817ms/step - loss: 1.5393 - accuracy: 0.5683 - val_loss: 1.9331 - val_accuracy: 0.4542\n",
            "Epoch 4/10\n",
            "149/149 [==============================] - 121s 814ms/step - loss: 1.0841 - accuracy: 0.6781 - val_loss: 1.4280 - val_accuracy: 0.5861\n",
            "Epoch 5/10\n",
            "149/149 [==============================] - 121s 812ms/step - loss: 0.8271 - accuracy: 0.7514 - val_loss: 2.7150 - val_accuracy: 0.4653\n",
            "Epoch 6/10\n",
            "149/149 [==============================] - 121s 814ms/step - loss: 0.6669 - accuracy: 0.7970 - val_loss: 1.2931 - val_accuracy: 0.5681\n",
            "Epoch 7/10\n",
            "149/149 [==============================] - 120s 807ms/step - loss: 0.5238 - accuracy: 0.8402 - val_loss: 1.9955 - val_accuracy: 0.5356\n",
            "Epoch 8/10\n",
            "149/149 [==============================] - 120s 804ms/step - loss: 0.4364 - accuracy: 0.8709 - val_loss: 1.8991 - val_accuracy: 0.6135\n",
            "Epoch 9/10\n",
            "149/149 [==============================] - 119s 800ms/step - loss: 0.3732 - accuracy: 0.8864 - val_loss: 1.4558 - val_accuracy: 0.5716\n",
            "Epoch 10/10\n",
            "149/149 [==============================] - 120s 802ms/step - loss: 0.3023 - accuracy: 0.9059 - val_loss: 2.9229 - val_accuracy: 0.5004\n"
          ],
          "name": "stdout"
        }
      ]
    },
    {
      "cell_type": "code",
      "metadata": {
        "id": "TyKT2M19kA9h",
        "colab_type": "code",
        "outputId": "e85c21d6-31a3-4588-af38-cc77416ec633",
        "colab": {
          "base_uri": "https://localhost:8080/",
          "height": 545
        }
      },
      "source": [
        "acc = history.history['accuracy']\n",
        "val_acc = history.history['val_accuracy']\n",
        "loss = history.history['loss']\n",
        "val_loss = history.history['val_loss']\n",
        "\n",
        "epochs = range(1, NUM_EPOCHS + 1)\n",
        "\n",
        "plt.plot(epochs, acc, 'b', label = \"Training Accuracy\")\n",
        "plt.plot(epochs, val_acc, 'r', label = \"Validation Accuracy\")\n",
        "plt.title(\"Training and Validation Accuracy\")\n",
        "plt.legend()\n",
        "\n",
        "plt.figure()\n",
        "plt.plot(epochs, loss, 'b', label = \"Training Loss\")\n",
        "plt.plot(epochs, val_loss, 'r', label = \"Validation Loss\")\n",
        "plt.title(\"Training and Validation Loss\")\n",
        "plt.legend()\n",
        "\n",
        "plt.show()"
      ],
      "execution_count": 18,
      "outputs": [
        {
          "output_type": "display_data",
          "data": {
            "image/png": "[encoded data removed]",
            "text/plain": [
              "<Figure size 432x288 with 1 Axes>"
            ]
          },
          "metadata": {
            "tags": [],
            "needs_background": "light"
          }
        },
        {
          "output_type": "display_data",
          "data": {
            "image/png": "[encoded data removed]",
            "text/plain": [
              "<Figure size 432x288 with 1 Axes>"
            ]
          },
          "metadata": {
            "tags": [],
            "needs_background": "light"
          }
        }
      ]
    }
  ]
}